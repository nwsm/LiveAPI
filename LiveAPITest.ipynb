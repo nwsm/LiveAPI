{
 "cells": [
  {
   "cell_type": "code",
   "execution_count": 2,
   "metadata": {},
   "outputs": [],
   "source": [
    "import json\n",
    "import sys\n",
    "from random import random, seed\n",
    "import time\n",
    "from datetime import datetime\n",
    "\n",
    "#Unforunately jupyter's path is not the same as the local path of this notebook, so we have to add it to find the module.\n",
    "#Would be solved by installing LiveAPI as a pip package\n",
    "sys.path.append('C:/Users/eri-c/Documents/SideProjects/notebookapi')\n",
    "from live_api import LiveAPI"
   ]
  },
  {
   "cell_type": "code",
   "execution_count": 3,
   "metadata": {},
   "outputs": [],
   "source": [
    "#Create an API\n",
    "api = LiveAPI.LiveAPI()\n",
    "\n",
    "#Create a resource\n",
    "numbers = LiveAPI.Resource(api, 'numbers', None)"
   ]
  },
  {
   "cell_type": "code",
   "execution_count": null,
   "metadata": {},
   "outputs": [],
   "source": [
    "#Example: refreshing data entirely every 5 seconds with 10 random numbers\n",
    "\n",
    "for i in range(100):\n",
    "    seed(datetime.now())\n",
    "    nums = []\n",
    "    for i in range(10):\n",
    "        nums.append(random())\n",
    "    numbers.set_data(nums)\n",
    "    time.sleep(0)"
   ]
  },
  {
   "cell_type": "raw",
   "metadata": {},
   "source": []
  },
  {
   "cell_type": "code",
   "execution_count": 4,
   "metadata": {},
   "outputs": [],
   "source": [
    "#Create a resource\n",
    "something = LiveAPI.Resource(api, 'something', None)"
   ]
  },
  {
   "cell_type": "code",
   "execution_count": null,
   "metadata": {},
   "outputs": [
    {
     "name": "stdout",
     "output_type": "stream",
     "text": [
      "0.9438927948600758\n",
      "0.8595794545419915\n",
      "0.10831122865597875\n",
      "0.558172776080487\n",
      "0.022535003689208577\n",
      "0.4100644276751638\n"
     ]
    }
   ],
   "source": [
    "#Example: appending data with a random number every 5 seconds\n",
    "\n",
    "for i in range(100):\n",
    "    seed(datetime.now())\n",
    "    n = random()\n",
    "    print(n)\n",
    "    something.add_data(n)\n",
    "    time.sleep(5)"
   ]
  },
  {
   "cell_type": "code",
   "execution_count": null,
   "metadata": {},
   "outputs": [],
   "source": []
  },
  {
   "cell_type": "code",
   "execution_count": 6,
   "metadata": {},
   "outputs": [],
   "source": []
  },
  {
   "cell_type": "code",
   "execution_count": null,
   "metadata": {},
   "outputs": [],
   "source": []
  },
  {
   "cell_type": "code",
   "execution_count": null,
   "metadata": {},
   "outputs": [],
   "source": []
  },
  {
   "cell_type": "code",
   "execution_count": null,
   "metadata": {},
   "outputs": [],
   "source": []
  }
 ],
 "metadata": {
  "kernelspec": {
   "display_name": "Python 3",
   "language": "python",
   "name": "python3"
  },
  "language_info": {
   "codemirror_mode": {
    "name": "ipython",
    "version": 3
   },
   "file_extension": ".py",
   "mimetype": "text/x-python",
   "name": "python",
   "nbconvert_exporter": "python",
   "pygments_lexer": "ipython3",
   "version": "3.6.2"
  }
 },
 "nbformat": 4,
 "nbformat_minor": 4
}
