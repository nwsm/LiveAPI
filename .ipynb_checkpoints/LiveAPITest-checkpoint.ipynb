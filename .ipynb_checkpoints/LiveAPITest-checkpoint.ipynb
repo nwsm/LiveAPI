{
 "cells": [
  {
   "cell_type": "code",
   "execution_count": 7,
   "metadata": {},
   "outputs": [],
   "source": [
    "import json\n",
    "import sys\n",
    "#Unforunately jupyter's path is not the same as the local path of this notebook, so we have to add it to find the module.\n",
    "sys.path.append('C:/Users/eri-c/Documents/SideProjects/notebookapi')\n",
    "from live_api import LiveAPI"
   ]
  },
  {
   "cell_type": "code",
   "execution_count": 15,
   "metadata": {},
   "outputs": [],
   "source": [
    "api = LiveAPI.LiveAPI()\n",
    "numbers = LiveAPI.Resource(api, 'numbers', [])\n",
    "initialRobots = [\n",
    "    {\n",
    "        \"Name\": \"Eric 2000\",\n",
    "        \"Memory\": .01\n",
    "    },\n",
    "    {\n",
    "        \"Name\": \"Terminator\",\n",
    "        \"Memory\": 10\n",
    "    }\n",
    "]\n",
    "robots = LiveAPI.Resource(api, 'robots', initialRobots)"
   ]
  },
  {
   "cell_type": "code",
   "execution_count": null,
   "metadata": {},
   "outputs": [],
   "source": []
  },
  {
   "cell_type": "code",
   "execution_count": 16,
   "metadata": {},
   "outputs": [],
   "source": [
    "robots.set_value(initialRobots)"
   ]
  },
  {
   "cell_type": "code",
   "execution_count": 17,
   "metadata": {},
   "outputs": [],
   "source": [
    "numbers.set_value([1,3,5,6])"
   ]
  },
  {
   "cell_type": "code",
   "execution_count": null,
   "metadata": {},
   "outputs": [],
   "source": []
  },
  {
   "cell_type": "code",
   "execution_count": 6,
   "metadata": {},
   "outputs": [],
   "source": []
  },
  {
   "cell_type": "code",
   "execution_count": null,
   "metadata": {},
   "outputs": [],
   "source": []
  },
  {
   "cell_type": "code",
   "execution_count": null,
   "metadata": {},
   "outputs": [],
   "source": []
  },
  {
   "cell_type": "code",
   "execution_count": null,
   "metadata": {},
   "outputs": [],
   "source": []
  }
 ],
 "metadata": {
  "kernelspec": {
   "display_name": "Python 3",
   "language": "python",
   "name": "python3"
  },
  "language_info": {
   "codemirror_mode": {
    "name": "ipython",
    "version": 3
   },
   "file_extension": ".py",
   "mimetype": "text/x-python",
   "name": "python",
   "nbconvert_exporter": "python",
   "pygments_lexer": "ipython3",
   "version": "3.6.2"
  }
 },
 "nbformat": 4,
 "nbformat_minor": 4
}
